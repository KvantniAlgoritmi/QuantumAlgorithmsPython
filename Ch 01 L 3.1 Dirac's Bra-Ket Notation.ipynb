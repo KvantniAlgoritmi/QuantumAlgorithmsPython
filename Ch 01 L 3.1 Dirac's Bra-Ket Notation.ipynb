{
 "cells": [
  {
   "cell_type": "markdown",
   "metadata": {},
   "source": [
    "* Chapter 01\n",
    "* Lesson 3.1\n",
    "\n",
    "# Dirac's Bra-Ket Notation\n",
    "\n",
    "<br>\n",
    "\n",
    "* [Linear algebra for quantum mechanics](https://furnstahl.github.io/7501-JB/notebooks/Reference/linear_algebra_for_QM.html)\n",
    "* [amcdawes/QMlabs](https://github.com/amcdawes/QMlabs)\n",
    "* [Welcome to Chemistry Lessons Using Jupyter Notebooks](https://mccullaghlab.github.io/intro.html)\n",
    "* [Solving 1-D Schrodinger Equation in Python](https://blog.gwlab.page/solving-1-d-schrodinger-equation-in-python-dcb3518ce454)"
   ]
  },
  {
   "cell_type": "markdown",
   "metadata": {},
   "source": [
    "Dirac's Bra-Ket notation is a mathematical framework introduced by English physicist Paul Dirac as a compact way to describe quantum states and their transformations. "
   ]
  },
  {
   "cell_type": "markdown",
   "metadata": {},
   "source": [
    "Let's see a short example of what bra-ket notation actually does. Imagine a wave function $\\psi$ which describes a quantum state of a particle. A median value of coordinate $\\vec{r}$ (ecpected value of the position operator) of that particle could be wtitten in the following form:\n",
    "\n",
    "\\begin{equation}\n",
    "\\braket{\\hat{r}} = \\int_{-\\infin}^{\\infin} \\psi^{*} r \\psi dr\n",
    "\\end{equation}\n",
    "\n",
    "Even a simple requirement such as this is very tidious to write. This is where Dirac's bre-ket notataion comes in handy. The expression from above can be written in a more compact and elegant form using bre-ket notataion:\n",
    "\n",
    "\\begin{align*}\n",
    "\\braket{\\hat{r}} = \\bra{\\psi} r \\ket{\\psi}\n",
    "\\end{align*}\n"
   ]
  },
  {
   "cell_type": "markdown",
   "metadata": {},
   "source": [
    "The main components of the bra-ket notation are **ket** and **bra** operators:\n",
    "\n",
    "* A **ket** represents a quantum state $\\ket{\\psi}$. It is a column vector in a complex vector space (Hilbert space).\n",
    "\n",
    "    \\begin{align*}\n",
    "    \\ket{\\psi} =\n",
    "    \\begin{bmatrix}\n",
    "    \\psi_1 \\\\\n",
    "    \\psi_2 \\\\\n",
    "    \\vdots \\\\\n",
    "    \\psi_n\n",
    "    \\end{bmatrix}\n",
    "    \\end{align*}\n",
    "    \n",
    "    Where $\\psi_1$, $\\psi_2$ ...$\\psi_n$ are column vector components.\n",
    "\n",
    "* A **bra** $\\bra{\\psi}$ is the Hermitian conjugate (complex conjugate transpose) of a **ket**:\n",
    "\n",
    "    \\begin{align*}\n",
    "    \\bra{\\psi} =\n",
    "    \\begin{bmatrix}\n",
    "    \\psi_1^* & \\psi_2^* & \\cdots & \\psi_n^*\n",
    "    \\end{bmatrix}\n",
    "    \\end{align*}\n",
    "\n",
    "    Where $\\psi_1$, $\\psi_2$ ...$\\psi_n$ are vector components."
   ]
  },
  {
   "cell_type": "markdown",
   "metadata": {},
   "source": [
    "### Python Example"
   ]
  },
  {
   "cell_type": "code",
   "execution_count": 2,
   "metadata": {},
   "outputs": [],
   "source": [
    "import numpy as np"
   ]
  },
  {
   "cell_type": "code",
   "execution_count": 3,
   "metadata": {},
   "outputs": [
    {
     "name": "stdout",
     "output_type": "stream",
     "text": [
      "Ket |ψ⟩:\n",
      "\n",
      "[[1.+2.j]\n",
      " [3.+4.j]]\n"
     ]
    }
   ],
   "source": [
    "# Ket |ψ⟩\n",
    "ket_psi = np.array([[1 + 2j], [3 + 4j]])\n",
    "\n",
    "print(\"Ket |ψ⟩:\\n\")\n",
    "print(ket_psi)\n"
   ]
  },
  {
   "cell_type": "code",
   "execution_count": 4,
   "metadata": {},
   "outputs": [
    {
     "name": "stdout",
     "output_type": "stream",
     "text": [
      "Bra ⟨ψ|:\n",
      "\n",
      "[[1.-2.j 3.-4.j]]\n"
     ]
    }
   ],
   "source": [
    "# Bra ⟨ψ|\n",
    "bra_psi = ket_psi.conj().T  # Conjugate transpose of |ψ⟩\n",
    "\n",
    "print(\"Bra ⟨ψ|:\\n\")\n",
    "print(bra_psi)"
   ]
  },
  {
   "cell_type": "code",
   "execution_count": 5,
   "metadata": {},
   "outputs": [
    {
     "name": "stdout",
     "output_type": "stream",
     "text": [
      "Ket |ψ>:\n",
      "\n",
      "[[1.+2.j]\n",
      " [3.+4.j]]\n"
     ]
    }
   ],
   "source": [
    "# Ket |ψ⟩\n",
    "ket_psi2 = bra_psi.conj().T  # Conjugate transpose of ⟨ψ|\n",
    "\n",
    "print(\"Ket |ψ>:\\n\")\n",
    "print(ket_psi2)"
   ]
  },
  {
   "cell_type": "markdown",
   "metadata": {},
   "source": [
    "As we can see, bras are created and transposed conjugates of kets and vice versa. It is called adjoint or Hermitian adjoint. In quantum mechanics is often represented using the $\\dagger$ symbol.\n",
    "\n",
    "\\begin{align*}\n",
    "  \\bra{\\psi} &= \\ket{\\psi}^{\\dagger} \\\\\n",
    "  \\ket{\\psi} &= \\bra{\\psi}^{\\dagger}\n",
    "\\end{align*}"
   ]
  },
  {
   "cell_type": "markdown",
   "metadata": {},
   "source": [
    "## Inner Product"
   ]
  },
  {
   "cell_type": "markdown",
   "metadata": {},
   "source": [
    "Inner product of operators represents the overlap or probability amplitude between two quantum states, $\\ket{\\psi}$ and $\\ket{\\phi}$. \n",
    "\n",
    "* In mathematics, this is a simple dot product:\n",
    "\n",
    "    \\begin{equation}\n",
    "    \\bra{\\phi} \\ket{\\psi} = \\braket{\\phi|\\psi} = \\sum_{i} \\phi_{i}^{*} \\psi_{i}\n",
    "    \\end{equation}\n",
    "\n",
    "* In quantum mechanics, squared inner product (Born rule) $\\left\\lvert \\braket{\\phi|\\psi} \\right\\rvert^{2}$ gives the probability of measuring $\\psi$ in state $\\phi$."
   ]
  },
  {
   "cell_type": "code",
   "execution_count": 6,
   "metadata": {},
   "outputs": [
    {
     "name": "stdout",
     "output_type": "stream",
     "text": [
      "Inner Product ⟨ψ|ψ⟩: [[30.+0.j]]\n"
     ]
    }
   ],
   "source": [
    "inner_product = np.dot(bra_psi, ket_psi)\n",
    "\n",
    "print(\"Inner Product ⟨ψ|ψ⟩:\", inner_product)"
   ]
  },
  {
   "cell_type": "code",
   "execution_count": 7,
   "metadata": {},
   "outputs": [
    {
     "name": "stdout",
     "output_type": "stream",
     "text": [
      "Squared Inner Product |⟨ψ|φ⟩|^2: [[900.]]\n"
     ]
    }
   ],
   "source": [
    "squared_inner_product = np.abs(inner_product)**2  # Square of the magnitude\n",
    "\n",
    "print(\"Squared Inner Product |⟨ψ|φ⟩|^2:\", squared_inner_product)"
   ]
  },
  {
   "cell_type": "markdown",
   "metadata": {},
   "source": [
    "#### A quick example of what this actually means in a non-quantum world"
   ]
  },
  {
   "cell_type": "code",
   "execution_count": 8,
   "metadata": {},
   "outputs": [
    {
     "name": "stdout",
     "output_type": "stream",
     "text": [
      "Inner Product ⟨ψ|φ⟩: [[0.96+0.j]]\n",
      "Squared Inner Product |⟨ψ|φ⟩|^2: [[0.9216]]\n"
     ]
    }
   ],
   "source": [
    "# Measuring alignment between viewer preferences and the movie profile\n",
    "\n",
    "# Viewer preference vector (state |ψ⟩)\n",
    "ket_psi_m = np.array([[0.8 + 0.0j], [0.6 + 0.0j]])  # User likes action 80% and comedy 60% (these are not actual percentages, but action and comedy vector amlitudes)\n",
    "\n",
    "# Movie profile vector (state |φ⟩)\n",
    "ket_phi_m = np.array([[0.9 + 0.0j], [0.4 + 0.0j]])  # A movie contains 90% action and 40% comedy (these are not actual percentages, but action and comedy vector amlitudes)\n",
    "\n",
    "# Conjugate transpose for bra ⟨ψ|\n",
    "bra_psi_m = ket_psi_m.conj().T\n",
    "\n",
    "# Inner product\n",
    "inner_product_m = np.dot(bra_psi_m, ket_phi_m)\n",
    "\n",
    "# Squared inner product (probability)\n",
    "squared_inner_product_m = np.abs(inner_product_m)**2\n",
    "\n",
    "# Output\n",
    "print(\"Inner Product ⟨ψ|φ⟩:\", inner_product_m)\n",
    "print(\"Squared Inner Product |⟨ψ|φ⟩|^2:\", squared_inner_product_m)\n"
   ]
  },
  {
   "cell_type": "markdown",
   "metadata": {},
   "source": [
    "We can be 92% confident that the viewer would like this movie."
   ]
  },
  {
   "cell_type": "code",
   "execution_count": 9,
   "metadata": {},
   "outputs": [
    {
     "name": "stdout",
     "output_type": "stream",
     "text": [
      "[[1.]]\n",
      "[[0.9409]]\n"
     ]
    }
   ],
   "source": [
    "# Proof that percentages from above are not nonsence:\n",
    "\n",
    "print(np.abs(np.dot(ket_psi_m.conj().T, ket_psi_m))**2)\n",
    "print(np.abs(np.dot(ket_phi_m.conj().T, ket_phi_m))**2)"
   ]
  },
  {
   "cell_type": "markdown",
   "metadata": {},
   "source": [
    "Since the squared inner product of the viewer preferences equalt 1, it means the viewer likes exclusively action and comedy. On the other hand, the movie contains $94\\%$ of action and comedy, which means there might be components of drama, triller or sci-fi as well."
   ]
  },
  {
   "cell_type": "markdown",
   "metadata": {},
   "source": [
    "### Normalization"
   ]
  },
  {
   "cell_type": "markdown",
   "metadata": {},
   "source": [
    "If the squared inner product of a quantum state vector $\\ket{\\psi}$ with itself is equal to 1:\n",
    "\n",
    "\\begin{equation}\n",
    "\\left\\lvert \\braket{\\psi|\\psi} \\right\\rvert^{2} = \\left\\lvert \\sum_{i} \\psi_{i}^{*} \\psi_{i} \\right\\rvert^{2} = 1\n",
    "\\end{equation}\n",
    "\n",
    "means the states are normalized."
   ]
  },
  {
   "cell_type": "code",
   "execution_count": 10,
   "metadata": {},
   "outputs": [
    {
     "name": "stdout",
     "output_type": "stream",
     "text": [
      "Ket |ψ⟩:\n",
      "\n",
      "[[1.+2.j]\n",
      " [3.+4.j]]\n"
     ]
    }
   ],
   "source": [
    "print(\"Ket |ψ⟩:\\n\")\n",
    "print(ket_psi)"
   ]
  },
  {
   "cell_type": "code",
   "execution_count": 11,
   "metadata": {},
   "outputs": [
    {
     "name": "stdout",
     "output_type": "stream",
     "text": [
      "squared inner product:  [[900.]]\n"
     ]
    }
   ],
   "source": [
    "print(\"squared inner product: \", np.abs(np.dot(ket_psi.conj().T, ket_psi))**2)"
   ]
  },
  {
   "cell_type": "markdown",
   "metadata": {},
   "source": [
    "This means the quantum state is not normalized. It can be normalized by dividing by the norm of $\\ket{\\psi}$:\n",
    "\n",
    "\\begin{equation}\n",
    "\\ket{\\psi_{normalized}}  = \\frac{\\ket{\\psi}}{2}\n",
    "\\end{equation}\n",
    "\n",
    "Where\n",
    "\n",
    "\\begin{equation}\n",
    "\\|\\psi\\|  = \\sqrt{\\braket{\\psi|\\psi}}\n",
    "\\end{equation}"
   ]
  },
  {
   "cell_type": "code",
   "execution_count": 12,
   "metadata": {},
   "outputs": [
    {
     "data": {
      "text/plain": [
       "array([[0.18257419+0.36514837j],\n",
       "       [0.54772256+0.73029674j]])"
      ]
     },
     "execution_count": 12,
     "metadata": {},
     "output_type": "execute_result"
    }
   ],
   "source": [
    "ket_psi_norm = ket_psi/np.linalg.norm(ket_psi)\n",
    "\n",
    "ket_psi_norm"
   ]
  },
  {
   "cell_type": "code",
   "execution_count": 13,
   "metadata": {},
   "outputs": [
    {
     "data": {
      "text/plain": [
       "array([[1.]])"
      ]
     },
     "execution_count": 13,
     "metadata": {},
     "output_type": "execute_result"
    }
   ],
   "source": [
    "np.abs(np.dot(ket_psi_norm.conj().T, ket_psi_norm))**2"
   ]
  },
  {
   "cell_type": "markdown",
   "metadata": {},
   "source": [
    "The quantum state is now normalized."
   ]
  },
  {
   "cell_type": "markdown",
   "metadata": {},
   "source": [
    "### Orthogonality"
   ]
  },
  {
   "cell_type": "markdown",
   "metadata": {},
   "source": [
    "Two states are orthogonal when their state vectors (kets) are perpendicular to each other in a complex vector space. This means their inner product is zero:\n",
    "\n",
    "\\begin{equation}\n",
    "\\braket{\\phi|\\psi} = \\sum_{i} \\phi_{i}^{*} \\psi_{i} = 0\n",
    "\\end{equation}\n",
    "\n",
    "In integral form:\n",
    "\n",
    "\\begin{equation}\n",
    "\\braket{\\phi|\\psi} =  \\int_{-\\infin}^{\\infin} \\phi^{*}(r) \\psi(r) dr = 0\n",
    "\\end{equation}\n",
    "\n",
    "Orthogonal states $\\ket{\\phi}$ and $\\ket{\\psi}$ are mutually exclusive. In quantum mechanics it means if a quantum system is in state $\\ket{\\psi}$ the probability of measuring it in state $\\ket{\\phi}$ is 0. In summary, these two states are independent and distinguishable."
   ]
  },
  {
   "cell_type": "markdown",
   "metadata": {},
   "source": [
    "Imagine two qubits $\\ket{0}$ and $\\ket{1}$:\n",
    "\n",
    "\\begin{align*}\n",
    "\\ket{0} =\n",
    "\\begin{bmatrix}\n",
    "1 \\\\\n",
    "0\n",
    "\\end{bmatrix}\n",
    "\\end{align*}\n",
    "\n",
    "\\begin{align*}\n",
    "\\ket{1} =\n",
    "\\begin{bmatrix}\n",
    "0 \\\\\n",
    "1\n",
    "\\end{bmatrix}\n",
    "\\end{align*}\n"
   ]
  },
  {
   "cell_type": "code",
   "execution_count": 14,
   "metadata": {},
   "outputs": [
    {
     "name": "stdout",
     "output_type": "stream",
     "text": [
      "⟨0|1⟩ = [[0]]\n"
     ]
    }
   ],
   "source": [
    "# Define the basis states\n",
    "ket_0 = np.array([[1], [0]])  # |0⟩\n",
    "ket_1 = np.array([[0], [1]])  # |1⟩\n",
    "\n",
    "# Compute the inner product ⟨0|1⟩\n",
    "inner_product = np.dot(ket_0.conj().T, ket_1)\n",
    "\n",
    "# Output the result\n",
    "print(\"⟨0|1⟩ =\", inner_product)"
   ]
  },
  {
   "cell_type": "markdown",
   "metadata": {},
   "source": [
    "This means they are orthogonal:\n",
    "\n",
    "\\begin{equation}\n",
    "\\braket{0|1} = 0\n",
    "\\end{equation}\n",
    "\n",
    "In reality it means they are independent and distinguishable. Physicaly, it means if a qubit is in state $\\ket{0}$, the probability of measuring it in state $\\ket{1}$ is 0, and vice versa.\n",
    "\n",
    "Due to these properties, these states form the basis of most quantum algorithms, making them fundamental to understanding quantum computing."
   ]
  },
  {
   "cell_type": "markdown",
   "metadata": {},
   "source": [
    "## Outer Product"
   ]
  },
  {
   "cell_type": "markdown",
   "metadata": {},
   "source": [
    "While the inner product creates a scalar, the outer product creats a matrix. In Dirac notation, the outer product is written as:\n",
    "\n",
    "\\begin{equation}\n",
    "    \\ket{\\psi} \\bra{\\phi}\n",
    "\\end{equation}"
   ]
  },
  {
   "cell_type": "markdown",
   "metadata": {},
   "source": [
    "If we assume quantum state vectors $\\ket{\\psi}$ and $\\ket{\\phi}$:\n",
    "\n",
    "\\begin{align*}\n",
    "\\ket{\\psi} =\n",
    "\\begin{bmatrix}\n",
    "\\psi_1 \\\\\n",
    "\\psi_2\n",
    "\\end{bmatrix}\n",
    "\\end{align*}\n",
    "    \n",
    "\\begin{align*}\n",
    "\\ket{\\phi} =\n",
    "\\begin{bmatrix}\n",
    "\\phi_1 \\\\\n",
    "\\phi_2\n",
    "\\end{bmatrix}\n",
    "\\end{align*}\n",
    "\n",
    "Where $\\psi_1$ and $\\psi_2$ are column vector components of $\\ket{\\psi}$, and $\\phi_1$ and $\\phi_2$ are column vector components of $\\ket{\\phi}$. \n",
    "\n",
    "Their outer product is:\n",
    "\n",
    "\\begin{align*}\n",
    "\\ket{\\psi} \\bra{\\phi} =\n",
    "\\begin{bmatrix}\n",
    "\\psi_1 \\\\\n",
    "\\psi_2\n",
    "\\end{bmatrix}\n",
    "\\begin{bmatrix}\n",
    "\\phi_1^* & \\phi_2^*\n",
    "\\end{bmatrix} = \n",
    "\\begin{bmatrix}\n",
    "\\psi_1 \\phi_1^* & \\psi_1 \\phi_2^*\n",
    "\\\\\n",
    "\\psi_2 \\phi_1^* & \\psi_2 \\phi_2^*\n",
    "\\end{bmatrix}\n",
    "\\end{align*}\n",
    "\n",
    "A matrix acts as a linear operator in quantum mechanics."
   ]
  },
  {
   "cell_type": "code",
   "execution_count": 17,
   "metadata": {},
   "outputs": [
    {
     "name": "stdout",
     "output_type": "stream",
     "text": [
      "Ket |ψ⟩:\n",
      "\n",
      "[[1.+2.j]\n",
      " [3.+4.j]]\n"
     ]
    }
   ],
   "source": [
    "# Ket |ψ⟩\n",
    "ket_psi = np.array([[1 + 2j], [3 + 4j]])\n",
    "\n",
    "print(\"Ket |ψ⟩:\\n\")\n",
    "print(ket_psi)\n"
   ]
  },
  {
   "cell_type": "code",
   "execution_count": null,
   "metadata": {},
   "outputs": [
    {
     "name": "stdout",
     "output_type": "stream",
     "text": [
      "Ket |φ⟩:\n",
      "\n",
      "[[5.+6.j]\n",
      " [7.+8.j]]\n"
     ]
    }
   ],
   "source": [
    "# Ket |φ⟩\n",
    "ket_phi = np.array([[5 + 6j], [7 + 8j]])\n",
    "\n",
    "print(\"Ket |φ⟩:\\n\")\n",
    "print(ket_phi)"
   ]
  },
  {
   "cell_type": "code",
   "execution_count": 21,
   "metadata": {},
   "outputs": [
    {
     "name": "stdout",
     "output_type": "stream",
     "text": [
      "Outer Product |ψ⟩⟨φ|:\n",
      "\n",
      " [[17.+4.j 23.+6.j]\n",
      " [39.+2.j 53.+4.j]]\n"
     ]
    }
   ],
   "source": [
    "# Compute the outer product |ψ⟩⟨φ|\n",
    "outer_product = np.dot(ket_psi, ket_phi.conj().T)\n",
    "print(\"Outer Product |ψ⟩⟨φ|:\\n\\n\", outer_product)"
   ]
  },
  {
   "cell_type": "markdown",
   "metadata": {},
   "source": [
    "### Outer Product of a State With Itself"
   ]
  },
  {
   "cell_type": "markdown",
   "metadata": {},
   "source": [
    "If the ket and bra are the same (e.g., $\\ket{\\psi} \\bra{\\psi}$), the result is called a density matrix in quantum mechanics. It is used to represent the state of a system."
   ]
  },
  {
   "cell_type": "code",
   "execution_count": 22,
   "metadata": {},
   "outputs": [
    {
     "name": "stdout",
     "output_type": "stream",
     "text": [
      "Outer Product with Itself |ψ⟩⟨ψ|:\n",
      "\n",
      " [[ 5.+0.j 11.+2.j]\n",
      " [11.-2.j 25.+0.j]]\n"
     ]
    }
   ],
   "source": [
    "# Compute the outer product |ψ⟩⟨ψ|\n",
    "outer_product_with_itself = np.dot(ket_psi, ket_psi.conj().T)\n",
    "print(\"Outer Product with Itself |ψ⟩⟨ψ|:\\n\\n\", outer_product_with_itself)"
   ]
  },
  {
   "cell_type": "markdown",
   "metadata": {},
   "source": [
    "### A Real-World Example: Quantum Projection"
   ]
  },
  {
   "cell_type": "markdown",
   "metadata": {},
   "source": [
    "In quantum mechanics, the outer product is often used to define projection operators. A projection operator projects a state onto a specific subspace.\n",
    "\n",
    "If we have a state vector $\\ket{\\psi}$:\n",
    "\n",
    "\\begin{align*}\n",
    "\\ket{\\psi} =\n",
    "\\begin{bmatrix}\n",
    "\\psi_1 \\\\\n",
    "\\psi_2\n",
    "\\end{bmatrix}\n",
    "\\end{align*}\n",
    "\n",
    "And a computational basis state $\\ket{0}$ :\n",
    "\n",
    "\\begin{align*}\n",
    "\\ket{0} =\n",
    "\\begin{bmatrix}\n",
    "1 \\\\\n",
    "0\n",
    "\\end{bmatrix}\n",
    "\\end{align*}\n",
    "\n",
    "Projection Operator $P_0$ is:\n",
    "\n",
    "\\begin{align*}\n",
    "P_0 =\n",
    "\\ket{0} \\bra{0}\n",
    "=\n",
    "\\begin{bmatrix}\n",
    "1 \\\\\n",
    "0\n",
    "\\end{bmatrix}\n",
    "\\begin{bmatrix}\n",
    "1 & 0\n",
    "\\end{bmatrix} = \n",
    "\\begin{bmatrix}\n",
    "1 & 0\n",
    "\\\\\n",
    "0 & 0\n",
    "\\end{bmatrix}\n",
    "\\end{align*}\n",
    "\n",
    "The projected state $\\ket{\\psi}'$ can be calculated using:\n",
    "\n",
    "\\begin{align*}\n",
    "\\ket{\\psi}' = P_0 \\ket{\\psi}\n",
    "\\end{align*}\n",
    "\n",
    "The $\\ket{\\psi}'$ is aligned with the computational basis state $\\ket{0}$. All components of $\\ket{\\psi}$ orthogonal to $\\ket{0}$ are now removed. In quantum mechanics, this technique is used to calculate probabilities of measuring a quantum state in a particular basis."
   ]
  },
  {
   "cell_type": "code",
   "execution_count": 23,
   "metadata": {},
   "outputs": [
    {
     "name": "stdout",
     "output_type": "stream",
     "text": [
      "Ket |0⟩:\n",
      "\n",
      "[[1]\n",
      " [0]]\n"
     ]
    }
   ],
   "source": [
    "# Define the computational basis state |0⟩\n",
    "ket_0 = np.array([[1], [0]])\n",
    "\n",
    "print(\"Ket |0⟩:\\n\")\n",
    "print(ket_0)"
   ]
  },
  {
   "cell_type": "code",
   "execution_count": 24,
   "metadata": {},
   "outputs": [
    {
     "name": "stdout",
     "output_type": "stream",
     "text": [
      "Projection Operator P0:\n",
      "\n",
      "[[1 0]\n",
      " [0 0]]\n"
     ]
    }
   ],
   "source": [
    "# Compute the projection operator P0 = |0⟩⟨0|\n",
    "P0 = np.dot(ket_0, ket_0.conj().T)\n",
    "\n",
    "print(\"Projection Operator P0:\\n\")\n",
    "print(P0)"
   ]
  },
  {
   "cell_type": "code",
   "execution_count": 25,
   "metadata": {},
   "outputs": [
    {
     "name": "stdout",
     "output_type": "stream",
     "text": [
      "Projected State |ψ'⟩:\n",
      "\n",
      "[[1.+2.j]\n",
      " [0.+0.j]]\n"
     ]
    }
   ],
   "source": [
    "# Apply the projection operator to |ψ⟩\n",
    "projected_psi = np.dot(P0, ket_psi)\n",
    "\n",
    "print(\"Projected State |ψ'⟩:\\n\")\n",
    "print(projected_psi)"
   ]
  },
  {
   "cell_type": "code",
   "execution_count": 26,
   "metadata": {},
   "outputs": [
    {
     "name": "stdout",
     "output_type": "stream",
     "text": [
      "Projected State |φ'⟩:\n",
      "\n",
      "[[5.+6.j]\n",
      " [0.+0.j]]\n"
     ]
    }
   ],
   "source": [
    "# Apply the projection operator to |φ⟩\n",
    "projected_phi = np.dot(P0, ket_phi)\n",
    "\n",
    "print(\"Projected State |φ'⟩:\\n\")\n",
    "print(projected_phi)"
   ]
  },
  {
   "cell_type": "code",
   "execution_count": null,
   "metadata": {},
   "outputs": [],
   "source": []
  }
 ],
 "metadata": {
  "kernelspec": {
   "display_name": "quiskit",
   "language": "python",
   "name": "python3"
  },
  "language_info": {
   "codemirror_mode": {
    "name": "ipython",
    "version": 3
   },
   "file_extension": ".py",
   "mimetype": "text/x-python",
   "name": "python",
   "nbconvert_exporter": "python",
   "pygments_lexer": "ipython3",
   "version": "3.7.11"
  }
 },
 "nbformat": 4,
 "nbformat_minor": 2
}
